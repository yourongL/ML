{
 "cells": [
  {
   "cell_type": "code",
   "execution_count": 101,
   "metadata": {},
   "outputs": [
    {
     "name": "stdout",
     "output_type": "stream",
     "text": [
      "<class 'list'>\n",
      "<class 'dict'>\n",
      "<class 'list'>\n",
      "<class 'set'>\n",
      "<class 'dict'>\n",
      "{'a': 1, 'age': 18}\n"
     ]
    }
   ],
   "source": [
    "def sum(a,b=0,c=0):\n",
    "    return a+b+c;\n",
    "\n",
    "s=[]\n",
    "s1=list([1,2,3])\n",
    "a={}\n",
    "a1=set([1,2,3])\n",
    "a2=dict({'a':1})\n",
    "a2[\"age\"]=18;\n",
    "print(type(s))\n",
    "print(type(a))\n",
    "print(type(s1))\n",
    "print(type(a1))\n",
    "print(type(a2))\n",
    "print(a2)"
   ]
  },
  {
   "cell_type": "code",
   "execution_count": 223,
   "metadata": {},
   "outputs": [
    {
     "name": "stdout",
     "output_type": "stream",
     "text": [
      "8\n",
      "{\"name\": \"xiaoming\", \"_Student__age\": 20}\n",
      "<class 'str'>\n",
      "<class '__main__.Student'>\n",
      "<class 'str'>\n",
      "这是gbk编码文件\n"
     ]
    },
    {
     "data": {
      "text/plain": [
       "'小明有一辆800万的摩托'"
      ]
     },
     "execution_count": 223,
     "metadata": {},
     "output_type": "execute_result"
    }
   ],
   "source": [
    "class Student:\n",
    "    #类属性\n",
    "    count=0\n",
    "    def __init__(self,name,age):\n",
    "        self.name=name\n",
    "        self.__age=age\n",
    "    def __len__(self):\n",
    "        return len(self.name)\n",
    "    def getAge(self):\n",
    "        return self.__age\n",
    "p1 = Student(\"xiaoming\",20)\n",
    "print(len(p1))\n",
    "[x for x in dir(p1)]\n",
    "p1.getAge()\n",
    "hasattr(p1,'__age')\n",
    "\n",
    "import json as js\n",
    "dp1=js.dumps(p1,default=lambda obj: obj.__dict__)\n",
    "print(dp1)\n",
    "print(type(dp1))\n",
    "p2=js.loads(dp1,object_hook=lambda dic: Student(dic['name'],dic['_Student__age']))\n",
    "print(type(p2))\n",
    "# f = lambda a: a*2\n",
    "# f(1)\n",
    "\n",
    "import os\n",
    "import shutil as cp\n",
    "os.environ\n",
    "os.name\n",
    "s1=os.path.abspath('.')\n",
    "# os.mkdir(os.path.join(s1,'text'))\n",
    "[x for x in os.listdir('.') if os.path.isdir(x)]\n",
    "\n",
    "with open(os.path.join(s1,'file.txt'),encoding='utf-8') as f:\n",
    "    file=f.read()\n",
    "    print(type(file))\n",
    "    print(file)\n",
    "cp.copyfile('file.txt','a.txt')\n",
    "os.path.exists(s1+'/a.txt')\n",
    "\n",
    "'%s有一辆%d万的摩托'%('小明',800)\n",
    "'{0}有一辆{1}万的摩托'.format('小明',800)\n",
    "f\"{'小明'}有一辆{800}万的摩托\""
   ]
  }
 ],
 "metadata": {
  "kernelspec": {
   "display_name": "Python [conda env:scikit-learn]",
   "language": "python",
   "name": "conda-env-scikit-learn-py"
  },
  "language_info": {
   "codemirror_mode": {
    "name": "ipython",
    "version": 3
   },
   "file_extension": ".py",
   "mimetype": "text/x-python",
   "name": "python",
   "nbconvert_exporter": "python",
   "pygments_lexer": "ipython3",
   "version": "3.7.6"
  }
 },
 "nbformat": 4,
 "nbformat_minor": 2
}
