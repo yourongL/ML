{
 "cells": [
  {
   "cell_type": "code",
   "execution_count": 101,
   "metadata": {},
   "outputs": [
    {
     "name": "stdout",
     "output_type": "stream",
     "text": [
      "<class 'list'>\n",
      "<class 'dict'>\n",
      "<class 'list'>\n",
      "<class 'set'>\n",
      "<class 'dict'>\n",
      "{'a': 1, 'age': 18}\n"
     ]
    }
   ],
   "source": [
    "def sum(a,b=0,c=0):\n",
    "    return a+b+c;\n",
    "\n",
    "s=[]\n",
    "s1=list([1,2,3])\n",
    "a={}\n",
    "a1=set([1,2,3])\n",
    "a2=dict({'a':1})\n",
    "a2[\"age\"]=18;\n",
    "print(type(s))\n",
    "print(type(a))\n",
    "print(type(s1))\n",
    "print(type(a1))\n",
    "print(type(a2))\n",
    "print(a2)"
   ]
  },
  {
   "cell_type": "code",
   "execution_count": 229,
   "metadata": {},
   "outputs": [
    {
     "name": "stdout",
     "output_type": "stream",
     "text": [
      "8\n",
      "{\"name\": \"xiaoming\", \"_Student__age\": 20}\n",
      "<class 'str'>\n",
      "<class '__main__.Student'>\n",
      "<class 'str'>\n",
      "这是gbk编码文件\n",
      "0 A\n",
      "1 B\n",
      "2 C\n"
     ]
    }
   ],
   "source": [
    "class Student:\n",
    "    #类属性\n",
    "    count=0\n",
    "    def __init__(self,name,age):\n",
    "        self.name=name\n",
    "        self.__age=age\n",
    "    def __len__(self):\n",
    "        return len(self.name)\n",
    "    def getAge(self):\n",
    "        return self.__age\n",
    "p1 = Student(\"xiaoming\",20)\n",
    "print(len(p1))\n",
    "[x for x in dir(p1)]\n",
    "p1.getAge()\n",
    "hasattr(p1,'__age')\n",
    "\n",
    "import json as js\n",
    "dp1=js.dumps(p1,default=lambda obj: obj.__dict__)\n",
    "print(dp1)\n",
    "print(type(dp1))\n",
    "p2=js.loads(dp1,object_hook=lambda dic: Student(dic['name'],dic['_Student__age']))\n",
    "print(type(p2))\n",
    "# f = lambda a: a*2\n",
    "# f(1)\n",
    "\n",
    "import os\n",
    "import shutil as cp\n",
    "os.environ\n",
    "os.name\n",
    "s1=os.path.abspath('.')\n",
    "# os.mkdir(os.path.join(s1,'text'))\n",
    "[x for x in os.listdir('.') if os.path.isdir(x)]\n",
    "\n",
    "with open(os.path.join(s1,'file.txt'),encoding='utf-8') as f:\n",
    "    file=f.read()\n",
    "    print(type(file))\n",
    "    print(file)\n",
    "cp.copyfile('file.txt','a.txt')\n",
    "os.path.exists(s1+'/a.txt')\n",
    "\n",
    "'%s有一辆%d万的摩托'%('小明',800)\n",
    "'{0}有一辆{1}万的摩托'.format('小明',800)\n",
    "f\"{'小明'}有一辆{800}万的摩托\"\n",
    "\n",
    "##切片\n",
    "# 取一个list或tuple的部分元素是非常常见的操作\n",
    "# 字符串'xxx'也可以看成是一种list，每个元素就是一个字符。因此，字符串也可以用切片操作\n",
    "# tuple也是一种list，唯一区别是tuple不可变。因此，tuple也可以用切片操作，只是操作的结果仍是tuple：\n",
    "'ABCDEFG'[::2]\n",
    "\n",
    "##生成器（可以表示一个无穷的数据流），迭代是用next函数，需要时才会取出下一个，一般不知道数据的大小\n",
    "#列表生成器\n",
    "#t=(i for i in )\n",
    "\n",
    "##迭代器\n",
    "# 可以直接作用于for循环的数据类型有以下几种：\n",
    "# 一类是集合数据类型，如list、tuple、dict、set、str等；\n",
    "# 一类是generator，包括生成器和带yield的generator function。\n",
    "# 这些可以直接作用于for循环的对象统称为可迭代对象：Iterable。\n",
    "# 默认情况下，dict迭代的是key。如果要迭代value，可以用for value in d.values()，如果要同时迭代key和value，可以用for k, v in d.items()。\n",
    "# 由于字符串也是可迭代对象，因此，也可以作用于for循环：\n",
    "# iter([1,2,3,4])将一个列表转换成迭代器\n",
    "isinstance([], Iterable)\n",
    "True\n",
    "isinstance([], Iterator)\n",
    "False\n",
    "# Python内置的enumerate函数可以把一个list变成索引-元素对，这样就可以在for循环中同时迭代索引和元素本身：\n",
    "for i, value in enumerate(['A', 'B', 'C']):\n",
    "    print(i, value)"
   ]
  },
  {
   "cell_type": "code",
   "execution_count": 226,
   "metadata": {},
   "outputs": [
    {
     "name": "stdout",
     "output_type": "stream",
     "text": [
      "88\n"
     ]
    }
   ],
   "source": [
    "def fun(num=100,cnt=0):\n",
    "    print(cnt)\n",
    "fun(cnt=88)\n",
    "# 三元运算\n",
    "3 if 3>2 else 4\n",
    "# 交换值\n",
    "a,b=1,2\n",
    "a,b=b,a\n",
    "# 字典生成式 集合生成式"
   ]
  },
  {
   "cell_type": "code",
   "execution_count": 233,
   "metadata": {},
   "outputs": [
    {
     "data": {
      "text/plain": [
       "['a', 'b', 'v', 'd', 'd', 's', 'a']"
      ]
     },
     "execution_count": 233,
     "metadata": {},
     "output_type": "execute_result"
    }
   ],
   "source": [
    "list('abvddsa')"
   ]
  }
 ],
 "metadata": {
  "kernelspec": {
   "display_name": "Python [conda env:scikit-learn]",
   "language": "python",
   "name": "conda-env-scikit-learn-py"
  },
  "language_info": {
   "codemirror_mode": {
    "name": "ipython",
    "version": 3
   },
   "file_extension": ".py",
   "mimetype": "text/x-python",
   "name": "python",
   "nbconvert_exporter": "python",
   "pygments_lexer": "ipython3",
   "version": "3.7.6"
  }
 },
 "nbformat": 4,
 "nbformat_minor": 2
}
