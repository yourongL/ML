{
 "cells": [
  {
   "cell_type": "code",
   "execution_count": 61,
   "metadata": {},
   "outputs": [
    {
     "data": {
      "image/png": "[encoded data removed]",
      "text/plain": [
       "<Figure size 400x400 with 1 Axes>"
      ]
     },
     "metadata": {
      "needs_background": "light"
     },
     "output_type": "display_data"
    }
   ],
   "source": [
    "from matplotlib import pyplot as plt\n",
    "from matplotlib import font_manager as ft\n",
    "my_font=ft.FontProperties(fname=\"C:\\Windows\\Fonts\\stkaiti.ttf\")\n",
    "\n",
    "x=[0,1,2,3,4,5,6,7,8,9]\n",
    "y=[a*a for a in x]\n",
    "y1=x\n",
    "#设置图片大小\n",
    "plt.figure(figsize=(5,5),dpi=80)\n",
    "plt.plot(x,y,label='青岛')#color='red' linestyle='- -' linewidth=\n",
    "plt.plot(x,y1,label='北京')\n",
    "plt.legend(prop=my_font)\n",
    "#保存图片\n",
    "# plt.savefig('./1.png')\n",
    "# plt.savefig('./1.svg')\n",
    "#设置刻度\n",
    "# plt.xticks(x)\n",
    "xlabel=[\"%s时\"%(i) for i in x]\n",
    "plt.xticks(x,xlabel,rotation=45,fontproperties=my_font)\n",
    "plt.yticks(range(0,90,10))\n",
    "plt.xlabel(\"时间\",fontproperties=my_font)\n",
    "plt.ylabel('降雨量',fontproperties=my_font)\n",
    "plt.title(\"降雨量随时间的变化情况\",fontproperties=my_font)\n",
    "# alpha是透明度\n",
    "plt.grid(alpha=0.2)\n",
    "plt.show()\n",
    "#range左闭右开区间\n"
   ]
  },
  {
   "cell_type": "code",
   "execution_count": 84,
   "metadata": {},
   "outputs": [
    {
     "name": "stdout",
     "output_type": "stream",
     "text": [
      "float64\n",
      "int32\n",
      "[0.93272575 0.75177983 0.26770967 0.44000592 0.99143139 0.28076283\n",
      " 0.9714122  0.83857632 0.59493182 0.6927028 ] \n",
      " [0.93 0.75 0.27 0.44 0.99 0.28 0.97 0.84 0.59 0.69]\n"
     ]
    }
   ],
   "source": [
    "import numpy as np\n",
    "# 创建一个ndarray并指定元素的数据类型\n",
    "t1=np.array([1,2,3,4],dtype='int')\n",
    "t2=np.array(range(1,5))\n",
    "t3=np.arange(0,11,2,dtype=\"float\")\n",
    "# 查看ndarray存放数据类型\n",
    "print(t3.dtype)\n",
    "# 修改元素的数据类型\n",
    "t4=t3.astype('int')\n",
    "print(t4.dtype)\n",
    "# 保留两位小数\n",
    "import random as rd\n",
    "x1=[rd.random() for i in range(10)]\n",
    "v1=np.array(x1)\n",
    "v2=np.round(x1,2)\n",
    "print(v1,\"\\n\",v2)"
   ]
  },
  {
   "cell_type": "code",
   "execution_count": 96,
   "metadata": {},
   "outputs": [
    {
     "name": "stdout",
     "output_type": "stream",
     "text": [
      "(8,)\n",
      "[[1 2 3 4]\n",
      " [5 6 7 8]]\n",
      "[[[ 0  1  2  3]\n",
      "  [ 4  5  6  7]\n",
      "  [ 8  9 10 11]]\n",
      "\n",
      " [[12 13 14 15]\n",
      "  [16 17 18 19]\n",
      "  [20 21 22 23]]]\n",
      "2\n",
      "[ 0  1  2  3  4  5  6  7  8  9 10 11 12 13 14 15 16 17 18 19 20 21 22 23]\n",
      "[ 0  1  2  3  4  5  6  7  8  9 10 11 12 13 14 15 16 17 18 19 20 21 22 23]\n"
     ]
    }
   ],
   "source": [
    "# 数组的形状 shape是一个元组\n",
    "import numpy as np\n",
    "v1=np.array([1,2,3,4,5,6,7,8])\n",
    "print(v1.shape)\n",
    "# 一维数组指的是元素个数\n",
    "# 二维数组指的是行列数\n",
    "v2=v1.reshape((2,4))\n",
    "print(v2)\n",
    "# 构建2*3*4形状的数组 显然分别是高度(层数)，行和列\n",
    "v3=np.arange(24).reshape(2,3,4)\n",
    "print(v3)\n",
    "print(v3.shape[0])\n",
    "# 数组展开\n",
    "v4=v3.reshape((24,))\n",
    "print(v4)\n",
    "print(v3.flatten())"
   ]
  },
  {
   "cell_type": "code",
   "execution_count": 113,
   "metadata": {},
   "outputs": [
    {
     "name": "stdout",
     "output_type": "stream",
     "text": [
      "[[ 0  1  2  3  4  5]\n",
      " [ 6  7  8  9 10 11]\n",
      " [12 13 14 15 16 17]\n",
      " [18 19 20 21 22 23]]\n",
      "[[ 2  3  4  5  6  7]\n",
      " [ 8  9 10 11 12 13]\n",
      " [14 15 16 17 18 19]\n",
      " [20 21 22 23 24 25]]\n",
      "**********\n",
      "[[[ 1  3  5  7]\n",
      "  [ 5  7  9 11]\n",
      "  [ 9 11 13 15]]\n",
      "\n",
      " [[13 15 17 19]\n",
      "  [17 19 21 23]\n",
      "  [21 23 25 27]]]\n"
     ]
    }
   ],
   "source": [
    "# numpy的广播机制 数加 数乘 数除\n",
    "import numpy as np\n",
    "v1=np.arange(24).reshape((4,6))\n",
    "print(v1)\n",
    "v2=v1+2\n",
    "print(v2)\n",
    "# 数组之间的加减乘除是相同维度上的运算\n",
    "# 列相同是列上的运算，行相同时行上的运算，行列都相同就是对应位置上的运算\n",
    "# 后缘维度相同或者后缘维度中某个缺省值是1的可以运算，\n",
    "# 3维加1维，所有的一维数组相加，3维加2维，3维加3维，高维度缺省成1退化成低维度相加\n",
    "# 非后缘维度的操作不行\n",
    "print('*'*10)\n",
    "v3=v1.reshape((2,3,4))\n",
    "v4=np.array([1,2,3,4]).reshape(1,1,4)\n",
    "print(v3+v4)"
   ]
  },
  {
   "cell_type": "code",
   "execution_count": 174,
   "metadata": {},
   "outputs": [
    {
     "name": "stdout",
     "output_type": "stream",
     "text": [
      "[[1 1 1 1 1 1 1 1]\n",
      " [2 2 2 2 2 2 2 2]\n",
      " [3 3 3 3 3 3 3 3]\n",
      " [4 4 4 4 4 4 4 4]\n",
      " [5 5 5 5 5 5 5 5]\n",
      " [6 6 6 6 6 6 6 6]]\n",
      "[[1 1 1 1 1 1 1 1]\n",
      " [2 2 2 2 2 2 2 2]\n",
      " [3 3 3 3 3 3 3 3]\n",
      " [4 4 4 4 4 4 4 4]\n",
      " [5 5 5 5 5 5 5 5]\n",
      " [6 6 6 6 6 6 6 6]]\n",
      "****************************************************************************************************\n",
      "[[3 3 3 3 3 3 3 3]\n",
      " [4 4 4 4 4 4 4 4]\n",
      " [5 5 5 5 5 5 5 5]\n",
      " [6 6 6 6 6 6 6 6]]\n",
      "[[1 1 1 1 1 1 1 1]\n",
      " [2 2 2 2 2 2 2 2]\n",
      " [6 6 6 6 6 6 6 6]]\n",
      "[1 2 3 4 5 6]\n"
     ]
    }
   ],
   "source": [
    "# 加一个向量就是每一行都加这个向量，等价于同一列的加上一个值\n",
    "# 列缺省就是每一列加上这个列矩阵，等价于同一行的加上一个值\n",
    "# axis轴\n",
    "import numpy as np\n",
    "t1=np.loadtxt('./train.csv',delimiter=',',dtype='int',unpack=True)\n",
    "# 转置\n",
    "print(t1.transpose())\n",
    "print(t1.swapaxes(0,1))\n",
    "\n",
    "# 索引和切片\n",
    "print('*'*100)\n",
    "# 取连续的多行\n",
    "t1=t1.transpose()\n",
    "print(t1[2:])\n",
    "# 取不连续的多行\n",
    "print(t1[[0,1,5]])\n",
    "# 行与列的通用取法,逗号隔开,前边是行的取法\n",
    "print(t1[:,0])\n",
    "# 数值的修改 直接赋值\n",
    "# t1[t1<10]=6 # 布尔索引\n",
    "# t2=np.where(t1>3,6,0)\n",
    "# t1.clip(3,5) # 小于3的替换成3，大于5的替换成5\n",
    "\n",
    "# 数组的拼接\n",
    "# 竖直拼接np.vstack((t1,t2))\n",
    "# 水平拼接np.hstack((t1,t2))\n",
    "# 交换行列利用切片\n",
    "# 构造全为0的数据和全为1的数据 np.zeros((shape)) np.ones((shape))\n",
    "# 构造对角线是1的方阵 np.eye(3)\n",
    "# 最值与最值位置 np.max(axis=0) np.argmax()\n",
    "# 注意numpy的copy和view a=b完全不复制 a=b[:]视图的完全不复制 a=b.copy()是复制"
   ]
  },
  {
   "cell_type": "code",
   "execution_count": null,
   "metadata": {},
   "outputs": [],
   "source": [
    "# 判断数组中nan的个数\n",
    "# np.count_nonzero(t!=t)用到了布尔索引 也利用了nan!=nan的特性\n",
    "# np.count_nonzero(np.isnan(t))\n",
    "# nan与任何值进行计算都是nan\n",
    "# np.sum(t) np.sum(t,axis=1)是每一列相加的结果\n",
    "# nan的替换或者删除一条记录\n",
    "# t.sum(axis) t.mean(axis)均值 np.median()中位数 np.ptp(axis)极值也就是最值差 t.std()标准差"
   ]
  },
  {
   "cell_type": "code",
   "execution_count": 167,
   "metadata": {},
   "outputs": [
    {
     "name": "stdout",
     "output_type": "stream",
     "text": [
      "18 18\n",
      "Index(['0时', '1时', '2时', '3时', '4时', '5时', '6时', '7时', '8时', '9时'], dtype='object') [0 1 2 3 4 5 6 7 8 9]\n"
     ]
    }
   ],
   "source": [
    "import pandas as pd\n",
    "pd.Series([1,2,3,4,5],index=['a','b','c','d','e'])\n",
    "dic = {'name':'xiaoming','age':18,'tel':10086}\n",
    "t1=pd.Series(dic)\n",
    "t2=pd.Series({\"%s时\"%(i):i for i in range(10)})\n",
    "t2.astype(float)\n",
    "\n",
    "# 切片和索引与numpy类似 布尔索引\n",
    "print(t1['age'],t1[1]) \n",
    "print(t2.index,t2.values)"
   ]
  },
  {
   "cell_type": "code",
   "execution_count": 179,
   "metadata": {},
   "outputs": [
    {
     "name": "stdout",
     "output_type": "stream",
     "text": [
      "    0   1   2   3   4   5\n",
      "0   0   1   2   3   4   5\n",
      "1   6   7   8   9  10  11\n",
      "2  12  13  14  15  16  17\n",
      "3  18  19  20  21  22  23\n"
     ]
    },
    {
     "data": {
      "text/html": [
       "<div>\n",
       "<style scoped>\n",
       "    .dataframe tbody tr th:only-of-type {\n",
       "        vertical-align: middle;\n",
       "    }\n",
       "\n",
       "    .dataframe tbody tr th {\n",
       "        vertical-align: top;\n",
       "    }\n",
       "\n",
       "    .dataframe thead th {\n",
       "        text-align: right;\n",
       "    }\n",
       "</style>\n",
       "<table border=\"1\" class=\"dataframe\">\n",
       "  <thead>\n",
       "    <tr style=\"text-align: right;\">\n",
       "      <th></th>\n",
       "      <th>0</th>\n",
       "      <th>1</th>\n",
       "      <th>2</th>\n",
       "      <th>3</th>\n",
       "      <th>4</th>\n",
       "      <th>5</th>\n",
       "    </tr>\n",
       "  </thead>\n",
       "  <tbody>\n",
       "    <tr>\n",
       "      <th>0</th>\n",
       "      <td>0</td>\n",
       "      <td>1</td>\n",
       "      <td>2</td>\n",
       "      <td>3</td>\n",
       "      <td>4</td>\n",
       "      <td>5</td>\n",
       "    </tr>\n",
       "    <tr>\n",
       "      <th>1</th>\n",
       "      <td>6</td>\n",
       "      <td>7</td>\n",
       "      <td>8</td>\n",
       "      <td>9</td>\n",
       "      <td>10</td>\n",
       "      <td>11</td>\n",
       "    </tr>\n",
       "    <tr>\n",
       "      <th>2</th>\n",
       "      <td>12</td>\n",
       "      <td>13</td>\n",
       "      <td>14</td>\n",
       "      <td>15</td>\n",
       "      <td>16</td>\n",
       "      <td>17</td>\n",
       "    </tr>\n",
       "    <tr>\n",
       "      <th>3</th>\n",
       "      <td>18</td>\n",
       "      <td>19</td>\n",
       "      <td>20</td>\n",
       "      <td>21</td>\n",
       "      <td>22</td>\n",
       "      <td>23</td>\n",
       "    </tr>\n",
       "  </tbody>\n",
       "</table>\n",
       "</div>"
      ],
      "text/plain": [
       "    0   1   2   3   4   5\n",
       "0   0   1   2   3   4   5\n",
       "1   6   7   8   9  10  11\n",
       "2  12  13  14  15  16  17\n",
       "3  18  19  20  21  22  23"
      ]
     },
     "execution_count": 179,
     "metadata": {},
     "output_type": "execute_result"
    }
   ],
   "source": [
    "import pandas as pd\n",
    "import numpy\n",
    "m1=pd.DataFrame(np.arange(24).reshape((4,6)))\n",
    "# index行索引 columns列索引\n",
    "print(m1)\n",
    "m1.index\n",
    "m1.columns\n",
    "# 字典构造dataframe两种方法 1字典组成的列表 2值是列表的字典\n",
    "# 用numpy来构造，传入index和columns\n",
    "# dataframe的排序方法\n",
    "m1.sort_values(by=5,ascending=False)\n",
    "m1.head()"
   ]
  },
  {
   "cell_type": "code",
   "execution_count": 196,
   "metadata": {},
   "outputs": [
    {
     "name": "stdout",
     "output_type": "stream",
     "text": [
      "    1   2\n",
      "0   1   2\n",
      "1   7   8\n",
      "2  13  14\n",
      "3  19  20\n",
      "    1\n",
      "0   1\n",
      "1   7\n",
      "2  13\n"
     ]
    }
   ],
   "source": [
    "# dataframe的切片和索引\n",
    "import pandas as pd\n",
    "m1=pd.DataFrame(np.arange(24).reshape((4,6)))\n",
    "m1[1:2][[1,2,3]]\n",
    "# loc[] 标签索引行列数据\n",
    "# iloc[] 位置索引行列数据\n",
    "print(m1.loc[0:3,1:2]) # 标签获取是真特殊啊\n",
    "print(m1.iloc[0:3,1:2])\n",
    "# 布尔索引 df[（df[\"name\"].str.len()>5）&（df['age>18']）] str获取字符串数据"
   ]
  },
  {
   "cell_type": "code",
   "execution_count": null,
   "metadata": {},
   "outputs": [],
   "source": [
    "# 缺数据处理\n",
    "# 判断nan isnull() notnull()\n",
    "# 删除含有nan的行 dropna(axis=0,how='any/all',inplace=False)inplace是否原地修改\n",
    "# 填充nan fillna()"
   ]
  }
 ],
 "metadata": {
  "kernelspec": {
   "display_name": "Python [conda env:scikit-learn]",
   "language": "python",
   "name": "conda-env-scikit-learn-py"
  },
  "language_info": {
   "codemirror_mode": {
    "name": "ipython",
    "version": 3
   },
   "file_extension": ".py",
   "mimetype": "text/x-python",
   "name": "python",
   "nbconvert_exporter": "python",
   "pygments_lexer": "ipython3",
   "version": "3.7.6"
  }
 },
 "nbformat": 4,
 "nbformat_minor": 2
}
